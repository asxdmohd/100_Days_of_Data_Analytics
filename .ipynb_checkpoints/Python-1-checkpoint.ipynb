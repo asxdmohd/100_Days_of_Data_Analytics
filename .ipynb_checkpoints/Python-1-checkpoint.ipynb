{
 "cells": [
  {
   "cell_type": "code",
   "execution_count": null,
   "metadata": {
    "colab": {
     "base_uri": "https://localhost:8080/"
    },
    "executionInfo": {
     "elapsed": 20,
     "status": "ok",
     "timestamp": 1717622976368,
     "user": {
      "displayName": "Mohd Asad",
      "userId": "03830474898945003411"
     },
     "user_tz": -330
    },
    "id": "-OS52IrmTg6E",
    "outputId": "7ba34c76-0072-47e9-d02d-6a65f4b9a6d1"
   },
   "outputs": [
    {
     "name": "stdout",
     "output_type": "stream",
     "text": [
      "Hello world \n"
     ]
    }
   ],
   "source": [
    "print(\"Hello world \")"
   ]
  },
  {
   "cell_type": "code",
   "execution_count": null,
   "metadata": {
    "colab": {
     "base_uri": "https://localhost:8080/"
    },
    "executionInfo": {
     "elapsed": 437,
     "status": "ok",
     "timestamp": 1717625688223,
     "user": {
      "displayName": "Mohd Asad",
      "userId": "03830474898945003411"
     },
     "user_tz": -330
    },
    "id": "HBvTKaH8Tlje",
    "outputId": "804de888-349e-4767-c8f7-706bd3285d45"
   },
   "outputs": [
    {
     "name": "stdout",
     "output_type": "stream",
     "text": [
      "Welcome back! Asad \n"
     ]
    }
   ],
   "source": [
    "print(\"Welcome back! Asad \") #There is no need to type long code for print\n",
    "\n",
    "\n",
    "# Any type of data type can be printed in it"
   ]
  },
  {
   "cell_type": "code",
   "execution_count": null,
   "metadata": {
    "colab": {
     "base_uri": "https://localhost:8080/"
    },
    "executionInfo": {
     "elapsed": 11,
     "status": "ok",
     "timestamp": 1717625757379,
     "user": {
      "displayName": "Mohd Asad",
      "userId": "03830474898945003411"
     },
     "user_tz": -330
    },
    "id": "4C5ukBgdTrWh",
    "outputId": "2964bc82-9f83-4708-f570-43fefe2ff537"
   },
   "outputs": [
    {
     "name": "stdout",
     "output_type": "stream",
     "text": [
      "India 22 True\n"
     ]
    }
   ],
   "source": [
    "#Example\n",
    "print(\"India\",22,True) #In this there are different type of data type"
   ]
  },
  {
   "cell_type": "code",
   "execution_count": null,
   "metadata": {
    "colab": {
     "base_uri": "https://localhost:8080/"
    },
    "executionInfo": {
     "elapsed": 10,
     "status": "ok",
     "timestamp": 1717625893747,
     "user": {
      "displayName": "Mohd Asad",
      "userId": "03830474898945003411"
     },
     "user_tz": -330
    },
    "id": "1UfXEKLHeMTP",
    "outputId": "b8578995-3b13-4929-b9e5-b2f872f4d848"
   },
   "outputs": [
    {
     "name": "stdout",
     "output_type": "stream",
     "text": [
      "\n",
      "HEllo#Asad\n"
     ]
    }
   ],
   "source": [
    "print( ) #One can learn about different type of parameter in the print() function\n",
    "\n",
    "#Example\n",
    "\n",
    "print(\"HEllo\",\"Asad\" ,sep=\"#\")"
   ]
  },
  {
   "cell_type": "code",
   "execution_count": null,
   "metadata": {
    "id": "9uHVWKFJehPu"
   },
   "outputs": [],
   "source": []
  },
  {
   "cell_type": "markdown",
   "metadata": {
    "id": "jnewaJ1_fAIG"
   },
   "source": [
    "DATA TYPES IN PYTHON\n",
    "\n",
    "There are 3 different types of Data types\n",
    "1. Basic Data Type = (Integer, Float, Complex, Boolean, String)\n",
    "2. Container type = (List, Tuples, Sets, Dictionaries)\n",
    "3. User Defined Types = (Class)"
   ]
  },
  {
   "cell_type": "code",
   "execution_count": null,
   "metadata": {
    "colab": {
     "base_uri": "https://localhost:8080/"
    },
    "executionInfo": {
     "elapsed": 11,
     "status": "ok",
     "timestamp": 1717626226483,
     "user": {
      "displayName": "Mohd Asad",
      "userId": "03830474898945003411"
     },
     "user_tz": -330
    },
    "id": "0fj1jGLEfera",
    "outputId": "770c4bf8-442b-4ead-91e3-3a01026c5a63"
   },
   "outputs": [
    {
     "name": "stdout",
     "output_type": "stream",
     "text": [
      "This is integer:  9\n",
      "This is Float:  9.65\n",
      "This is Complex:  (9+5j)\n",
      "This is Boolean:  True False\n",
      "This is String:  Hello This is string\n"
     ]
    }
   ],
   "source": [
    "# Basic Type\n",
    "\n",
    "print( \"This is integer: \", 9)\n",
    "\n",
    "print( \"This is Float: \", 9.65)\n",
    "\n",
    "print( \"This is Complex: \", 9+5j)\n",
    "\n",
    "print( \"This is Boolean: \", True, False )\n",
    "\n",
    "print( \"This is String: \", \"Hello This is string\")\n",
    "\n",
    "\n",
    "\n",
    "\n"
   ]
  },
  {
   "cell_type": "code",
   "execution_count": null,
   "metadata": {
    "colab": {
     "base_uri": "https://localhost:8080/"
    },
    "executionInfo": {
     "elapsed": 19,
     "status": "ok",
     "timestamp": 1717656812248,
     "user": {
      "displayName": "Mohd Asad",
      "userId": "03830474898945003411"
     },
     "user_tz": -330
    },
    "id": "GXAZOEkFfk-4",
    "outputId": "0595122a-1f91-4b51-be47-3b9c0d05c29c"
   },
   "outputs": [
    {
     "name": "stdout",
     "output_type": "stream",
     "text": [
      "This is List:  ['Hello This String is inside list', 4, 5, 5]\n",
      "This is Tuple:  ('Hello This String is inside list', 4, 5, 5)\n",
      "This is Set:  {'Hello This String is inside list', 4, 5}\n",
      "This is Dictionary: {'Asad': 'Student', 'Age': 20}\n"
     ]
    }
   ],
   "source": [
    "#Container Types\n",
    "\n",
    "print( \"This is List: \",[\"Hello This String is inside list\",4,5,5]) #Square bracket\n",
    "\n",
    "print( \"This is Tuple: \",(\"Hello This String is inside list\",4,5,5)) #Small bracket\n",
    "\n",
    "print( \"This is Set: \",{\"Hello This String is inside list\",4,5,5}) #Curly bracket\n",
    "\n",
    "print( \"This is Dictionary:\",{\"Asad\":\"Student\", \"Age\":20} ) #Curly bracket, Key Value Pairs\n",
    "\n",
    "\n",
    "\n"
   ]
  },
  {
   "cell_type": "code",
   "execution_count": null,
   "metadata": {
    "id": "eYewUCVygUu0"
   },
   "outputs": [],
   "source": [
    " # USer Defined Type\n",
    "\n",
    " #Will Cover this data type later"
   ]
  },
  {
   "cell_type": "markdown",
   "metadata": {
    "id": "nr6Ny7t4hbIL"
   },
   "source": [
    "COMMENTS\n",
    "\n",
    "Code which is not executable by compiler or interpreter <br>\n",
    "Comments are written to enhance the readability of the code\n",
    "\n",
    "<br> One can not write multi line comments in python"
   ]
  },
  {
   "cell_type": "markdown",
   "metadata": {
    "id": "zJOeNB24hGHE"
   },
   "source": [
    "VARIABLES: Containers\n",
    "\n",
    "\n",
    "DYNAMIC TYPING: At the time of creation of variable when there us no need to Declare the variable( Data type)\n",
    "\n",
    "\n",
    "Static typing : Declartaion of variable before creating them( declaring the data type, for example: int a= 3)\n",
    "\n",
    "Dynamic Binding: One variable can use the different type of data type\n",
    "\n",
    "Static Binding: Opposite of dynamic binding"
   ]
  },
  {
   "cell_type": "code",
   "execution_count": null,
   "metadata": {
    "colab": {
     "base_uri": "https://localhost:8080/"
    },
    "executionInfo": {
     "elapsed": 521,
     "status": "ok",
     "timestamp": 1717627250490,
     "user": {
      "displayName": "Mohd Asad",
      "userId": "03830474898945003411"
     },
     "user_tz": -330
    },
    "id": "MBRguSRViczv",
    "outputId": "0f697409-08a9-41f3-9d02-9bd5ba26f11c"
   },
   "outputs": [
    {
     "name": "stdout",
     "output_type": "stream",
     "text": [
      "Asad 21\n"
     ]
    }
   ],
   "source": [
    "#In python there is no declaration of variable\n",
    "\n",
    "Name= \"Asad\"\n",
    "Age= 21\n",
    "\n",
    "print(Name,Age)"
   ]
  },
  {
   "cell_type": "code",
   "execution_count": null,
   "metadata": {
    "colab": {
     "base_uri": "https://localhost:8080/"
    },
    "executionInfo": {
     "elapsed": 428,
     "status": "ok",
     "timestamp": 1717627306467,
     "user": {
      "displayName": "Mohd Asad",
      "userId": "03830474898945003411"
     },
     "user_tz": -330
    },
    "id": "ilX_r9g9is2l",
    "outputId": "79a040ef-0be5-497f-c5cd-3483645f0a61"
   },
   "outputs": [
    {
     "name": "stdout",
     "output_type": "stream",
     "text": [
      "6\n"
     ]
    }
   ],
   "source": [
    "a,b,c=4,3,2\n",
    "\n",
    "r=e=d=6\n",
    "\n",
    "print(d)"
   ]
  },
  {
   "cell_type": "markdown",
   "metadata": {
    "id": "jtQptePxkPNl"
   },
   "source": [
    "KEYWORDS:\n",
    "\n",
    "KEywords are the resevered words which can not be used in coding , there are 36  keywords in python. For example: False, True, etc.\n",
    "\n"
   ]
  },
  {
   "cell_type": "code",
   "execution_count": null,
   "metadata": {
    "colab": {
     "base_uri": "https://localhost:8080/"
    },
    "executionInfo": {
     "elapsed": 16,
     "status": "ok",
     "timestamp": 1717627411245,
     "user": {
      "displayName": "Mohd Asad",
      "userId": "03830474898945003411"
     },
     "user_tz": -330
    },
    "id": "E7xUy-w0khJI",
    "outputId": "946d4fdd-0f73-437d-9fb0-ec564458d62d"
   },
   "outputs": [
    {
     "name": "stdout",
     "output_type": "stream",
     "text": [
      "['False', 'None', 'True', 'and', 'as', 'assert', 'async', 'await', 'break', 'class', 'continue', 'def', 'del', 'elif', 'else', 'except', 'finally', 'for', 'from', 'global', 'if', 'import', 'in', 'is', 'lambda', 'nonlocal', 'not', 'or', 'pass', 'raise', 'return', 'try', 'while', 'with', 'yield']\n"
     ]
    }
   ],
   "source": [
    "import keyword\n",
    "print(keyword.kwlist) # this will print all the types of keywords"
   ]
  },
  {
   "cell_type": "markdown",
   "metadata": {
    "id": "NH9OZXm4nBu1"
   },
   "source": [
    "IDENTIFIERS: A name used to identify a variable, function, class, module or other object\n",
    "\n",
    "**Rules for Naming an Identifier:**<br>\n",
    "Identifiers cannot be a keyword. <br>\n",
    "Identifiers are case-sensitive.<br>\n",
    "It can have a sequence of letters and digits. However, it must begin with <br>\n",
    "a letter or _. The first letter of an identifier cannot be a digit.<br>\n",
    "It's a convention to start an identifier with a letter rather _.<br>\n",
    "Whitespaces are not allowed.<br>\n",
    "We cannot use special symbols like !, @, #, $, and so on.<br>\n"
   ]
  },
  {
   "cell_type": "code",
   "execution_count": null,
   "metadata": {
    "id": "UeSjAACfnZCx"
   },
   "outputs": [],
   "source": [
    "# TAKING USER INPUT\n",
    "input()"
   ]
  },
  {
   "cell_type": "markdown",
   "metadata": {
    "id": "s0f5IDmXUyQt"
   },
   "source": [
    "USER INPUT: Taking any input from user, the default format for input is \"String\"\n",
    "\n",
    "there are 2 types of softwares in the world\n",
    "1. Static - One way software| Communicate through uni directional way.. only software communicates with user\n",
    "2. Dynamic Softwarre- 2 Way communication where user give input and sees the output | In easy language talking to software"
   ]
  },
  {
   "cell_type": "code",
   "execution_count": null,
   "metadata": {
    "colab": {
     "base_uri": "https://localhost:8080/"
    },
    "executionInfo": {
     "elapsed": 14415,
     "status": "ok",
     "timestamp": 1717657120622,
     "user": {
      "displayName": "Mohd Asad",
      "userId": "03830474898945003411"
     },
     "user_tz": -330
    },
    "id": "w2k3WEHtVQlZ",
    "outputId": "5760940d-8b06-48f6-9be9-7db1a733e1c1"
   },
   "outputs": [
    {
     "name": "stdout",
     "output_type": "stream",
     "text": [
      "Enter Your name: Asad\n",
      "Asad\n"
     ]
    }
   ],
   "source": [
    "a= input(\"Enter Your name: \")\n",
    "\n",
    "print(a)"
   ]
  },
  {
   "cell_type": "code",
   "execution_count": null,
   "metadata": {
    "colab": {
     "base_uri": "https://localhost:8080/"
    },
    "executionInfo": {
     "elapsed": 156067,
     "status": "ok",
     "timestamp": 1717657563606,
     "user": {
      "displayName": "Mohd Asad",
      "userId": "03830474898945003411"
     },
     "user_tz": -330
    },
    "id": "JWjGBQAEVarz",
    "outputId": "a6636e9b-6f08-4a08-a76b-5b6c0ebce484"
   },
   "outputs": [
    {
     "name": "stdout",
     "output_type": "stream",
     "text": [
      "Enter First Num: 5\n",
      "Enter Second Num: 5\n",
      "The Sum of First and Second Num is:  10\n",
      "<class 'int'>\n"
     ]
    }
   ],
   "source": [
    "# TAKING INPUT FROM USER AND ADDING THEM\n",
    "\n",
    "a= int(input(\"Enter First Num: \"))\n",
    "b= int(input(\"Enter Second Num: \")) #Converting one date type to another is called Type conversion\n",
    "\n",
    "#Implicit - WHen Python automatically does the conversion eg- float\n",
    "#EXplicit - When user do conbersion of data type eg- int('455\n",
    ")\n",
    "\n",
    "sum= a+b\n",
    "\n",
    "\n",
    "print(\"The Sum of First and Second Num is: \",sum)\n",
    "\n",
    "\n",
    "print(type(a))"
   ]
  },
  {
   "cell_type": "markdown",
   "metadata": {
    "id": "rnobpWPjYGbN"
   },
   "source": [
    "LITERAL - Raw Data Given to variable\n",
    "\n",
    "1. Numeric\n",
    "2. STring\n",
    "3. Boolean\n",
    "4. Special"
   ]
  },
  {
   "cell_type": "code",
   "execution_count": null,
   "metadata": {
    "id": "kOLDN7LfWSsb"
   },
   "outputs": [],
   "source": [
    "#Numeric Literal\n",
    "a= 0b1010 #Through binary\n",
    "b = 100 #Decimal\n",
    "# print(a+b)\n",
    "\n",
    "#Float Literal\n",
    "f1= 10.5 #Decimal\n",
    "f2= 1,5e-3\n",
    "# print(f2)\n",
    "\n",
    "#Boolean Literal\n",
    "\n",
    "#String literal\n",
    "s= \"hello\"\n",
    "multiline = '''hello '''\n",
    "# print(multiline)\n",
    "\n",
    "#Boolean Literal\n",
    "b1= True\n",
    "b2 = False\n",
    "# print(b1+3)\n",
    "\n",
    "\n",
    "#Special Literal\n",
    "\n",
    "a= None # Since there is no variable declaration in python\n",
    "#So we use None to use the variable latter (Declaration of Variable)"
   ]
  },
  {
   "cell_type": "markdown",
   "metadata": {
    "id": "fKlW3IcWZq4u"
   },
   "source": [
    "OPEARATORS - Used to performs operations on variables and values\n",
    "\n",
    "1. Arithmetic\n",
    "2. Comparision\n",
    "3. Logical\n",
    "4. Bitwise\n",
    "5. Assignment\n",
    "6. Identity\n",
    "7. Membership"
   ]
  },
  {
   "cell_type": "code",
   "execution_count": null,
   "metadata": {
    "colab": {
     "base_uri": "https://localhost:8080/"
    },
    "executionInfo": {
     "elapsed": 20,
     "status": "ok",
     "timestamp": 1717658300801,
     "user": {
      "displayName": "Mohd Asad",
      "userId": "03830474898945003411"
     },
     "user_tz": -330
    },
    "id": "ZsGoVqJIYgZk",
    "outputId": "d890096d-1a73-4fe3-a796-0e19cae52c66"
   },
   "outputs": [
    {
     "name": "stdout",
     "output_type": "stream",
     "text": [
      "8\n",
      "-4\n",
      "12\n",
      "0.3333333333333333\n",
      "64\n"
     ]
    }
   ],
   "source": [
    "#Arithmetic\n",
    "a=2\n",
    "b=6\n",
    "print(a+b)\n",
    "print(a-b)\n",
    "print(a*b)\n",
    "print(a/b)\n",
    "print(a**b)"
   ]
  },
  {
   "cell_type": "code",
   "execution_count": null,
   "metadata": {
    "colab": {
     "base_uri": "https://localhost:8080/"
    },
    "executionInfo": {
     "elapsed": 688,
     "status": "ok",
     "timestamp": 1717658431550,
     "user": {
      "displayName": "Mohd Asad",
      "userId": "03830474898945003411"
     },
     "user_tz": -330
    },
    "id": "FE5uPUcmaaG8",
    "outputId": "a75af608-616f-4aef-e373-9cecb5f3b061"
   },
   "outputs": [
    {
     "name": "stdout",
     "output_type": "stream",
     "text": [
      "False\n",
      "True\n",
      "False\n",
      "False\n",
      "True\n",
      "True\n"
     ]
    }
   ],
   "source": [
    "#Comparision Operators\n",
    "\n",
    "print(a>b)\n",
    "print(a<b)\n",
    "print(a==b)\n",
    "print(a>=b)\n",
    "print(a<=b)\n",
    "print(a!=b)"
   ]
  },
  {
   "cell_type": "code",
   "execution_count": null,
   "metadata": {
    "colab": {
     "base_uri": "https://localhost:8080/"
    },
    "executionInfo": {
     "elapsed": 611,
     "status": "ok",
     "timestamp": 1717658492580,
     "user": {
      "displayName": "Mohd Asad",
      "userId": "03830474898945003411"
     },
     "user_tz": -330
    },
    "id": "8eqkVVY6anzB",
    "outputId": "f063dc81-ddc8-490b-9f43-d7758e79cb1d"
   },
   "outputs": [
    {
     "name": "stdout",
     "output_type": "stream",
     "text": [
      "True\n",
      "False\n",
      "False\n"
     ]
    }
   ],
   "source": [
    "#Logical operators\n",
    "x= True\n",
    "y= False\n",
    "\n",
    "print(x or y)\n",
    "print(x and y)\n",
    "print( not x)"
   ]
  },
  {
   "cell_type": "code",
   "execution_count": null,
   "metadata": {
    "id": "quApN6jebERX"
   },
   "outputs": [],
   "source": [
    "#Bitwise operators - THese always works on binary values"
   ]
  },
  {
   "cell_type": "code",
   "execution_count": null,
   "metadata": {
    "colab": {
     "base_uri": "https://localhost:8080/"
    },
    "executionInfo": {
     "elapsed": 6,
     "status": "ok",
     "timestamp": 1717658953409,
     "user": {
      "displayName": "Mohd Asad",
      "userId": "03830474898945003411"
     },
     "user_tz": -330
    },
    "id": "vtALTkJgbPku",
    "outputId": "2cc50682-57df-4a92-c8b3-b279d008f27e"
   },
   "outputs": [
    {
     "name": "stdout",
     "output_type": "stream",
     "text": [
      "3\n",
      "6\n",
      "True\n",
      "True\n",
      "False\n",
      "True\n"
     ]
    }
   ],
   "source": [
    "#Assignment Operatos\n",
    "a=3\n",
    "print(a)\n",
    "a=a+3\n",
    "print(a)\n",
    "a+=3\n",
    "\n",
    "\n",
    "#IDentity operator \"is\"\n",
    "\n",
    "a = \"Hello\"\n",
    "b= \"Hello\"\n",
    "print(a is b)\n",
    "\n",
    "\n",
    "print(\"e\" in a)\n",
    "print(\"Smile\" in a)\n",
    "\n",
    "\n",
    "#MEmbership operaot (not in)\n",
    "print(\"Smile\" not in a)\n"
   ]
  },
  {
   "cell_type": "markdown",
   "metadata": {
    "id": "dwRVRTQ1-mbk"
   },
   "source": [
    "IF ELSE STATEMENTS:\n",
    "\n"
   ]
  },
  {
   "cell_type": "code",
   "execution_count": null,
   "metadata": {
    "colab": {
     "base_uri": "https://localhost:8080/",
     "height": 110
    },
    "executionInfo": {
     "elapsed": 431,
     "status": "error",
     "timestamp": 1717685989378,
     "user": {
      "displayName": "Mohd Asad",
      "userId": "03830474898945003411"
     },
     "user_tz": -330
    },
    "id": "dBLQHg2_brBh",
    "outputId": "371753cf-9698-465c-f93b-b1c1d248cf50"
   },
   "outputs": [
    {
     "ename": "SyntaxError",
     "evalue": "invalid syntax (<ipython-input-6-5ad98d161a7d>, line 31)",
     "output_type": "error",
     "traceback": [
      "\u001b[0;36m  File \u001b[0;32m\"<ipython-input-6-5ad98d161a7d>\"\u001b[0;36m, line \u001b[0;32m31\u001b[0m\n\u001b[0;31m    else:\u001b[0m\n\u001b[0m    ^\u001b[0m\n\u001b[0;31mSyntaxError\u001b[0m\u001b[0;31m:\u001b[0m invalid syntax\n"
     ]
    }
   ],
   "source": [
    "#Corrct Credentials are-\n",
    "# Email= \"codpython11@gmail.com\"\n",
    "# Password= \"123\"\n",
    "\n",
    "\n",
    "Email = input(\"Enter your Email: \")\n",
    "\n",
    "\n",
    "if \"@\" in Email:\n",
    "\n",
    "  Password=input(\"Enter your Password: \")\n",
    "\n",
    "\n",
    "  if  Email== \"codpython11@gmail.com\" and Password == \"123\":\n",
    "    print(\"Successfully logged in!\")\n",
    "\n",
    "  elif Email== \"codpython11@gmail.com\" and Password != \"123\":\n",
    "    print(\"Password Incorrect\")\n",
    "    Password=input(\"ENter password again: \")\n",
    "    if Password==\"123\":\n",
    "      print(\"Finally correct\")\n",
    "    else:\n",
    "      print(\"Pass is wrong\")\n",
    "\n",
    "\n",
    "  else:\n",
    "    print(\"Incorrect Details\")\n",
    "\n",
    "\n",
    "\n",
    "  else:\n",
    "  print(\"Re enter email\")\n",
    "\n",
    "\n"
   ]
  },
  {
   "cell_type": "code",
   "execution_count": null,
   "metadata": {
    "colab": {
     "base_uri": "https://localhost:8080/"
    },
    "executionInfo": {
     "elapsed": 8903,
     "status": "ok",
     "timestamp": 1717686131632,
     "user": {
      "displayName": "Mohd Asad",
      "userId": "03830474898945003411"
     },
     "user_tz": -330
    },
    "id": "KWvJj78aEeaQ",
    "outputId": "7b91189a-0e0b-40e0-f599-385b12d9b551"
   },
   "outputs": [
    {
     "name": "stdout",
     "output_type": "stream",
     "text": [
      "Enter your Email: asadgmai.com\n",
      "Re enter email\n"
     ]
    }
   ],
   "source": [
    "#Corrct Credentials are-\n",
    "# Email= \"codpython11@gmail.com\"\n",
    "# Password= \"123\"\n",
    "\n",
    "\n",
    "Email = input(\"Enter your Email: \")\n",
    "\n",
    "\n",
    "if \"@\" in Email:\n",
    "\n",
    "  Password=input(\"Enter your Password: \")\n",
    "\n",
    "\n",
    "  if  Email== \"codpython11@gmail.com\" and Password == \"123\":\n",
    "    print(\"Successfully logged in!\")\n",
    "\n",
    "  elif Email== \"codpython11@gmail.com\" and Password != \"123\":\n",
    "    print(\"Password Incorrect\")\n",
    "    Password=input(\"ENter password again: \")\n",
    "    if Password==\"123\":\n",
    "      print(\"Finally correct\")\n",
    "    else:\n",
    "      print(\"Pass is wrong\")\n",
    "\n",
    "\n",
    "  else:\n",
    "    print(\"Incorrect Details\")\n",
    "\n",
    "\n",
    "\n",
    "else:\n",
    "  print(\"Re enter email\")\n",
    "\n",
    "\n"
   ]
  },
  {
   "cell_type": "markdown",
   "metadata": {
    "id": "C1w-JCEkE0jZ"
   },
   "source": [
    "Indentation in python:\n",
    "\n",
    "if name ==\"Asad\"  and Las_name=\"Asad\":\n",
    "  print(\"asad)\n",
    "else:\n",
    "  print(nothing)"
   ]
  },
  {
   "cell_type": "code",
   "execution_count": null,
   "metadata": {
    "colab": {
     "base_uri": "https://localhost:8080/"
    },
    "executionInfo": {
     "elapsed": 12,
     "status": "ok",
     "timestamp": 1717686411940,
     "user": {
      "displayName": "Mohd Asad",
      "userId": "03830474898945003411"
     },
     "user_tz": -330
    },
    "id": "8-L0DgojcINv",
    "outputId": "8a3a94be-6931-4fef-845d-a3f890730313"
   },
   "outputs": [
    {
     "name": "stdout",
     "output_type": "stream",
     "text": [
      "nothing\n"
     ]
    }
   ],
   "source": [
    "#Indentation in python:\n",
    "\n",
    "name = \"Asad\"\n",
    "las_name= \"K\"\n",
    "\n",
    "if name ==\"Asad\"  and las_name==\"Aasad\":\n",
    "  print(\"asad\")\n",
    "else:\n",
    "  print(\"nothing\")"
   ]
  },
  {
   "cell_type": "markdown",
   "metadata": {
    "id": "wa0VqIBQLi4z"
   },
   "source": [
    "WHILE LOOP:\n",
    "\n",
    "Showcasing the product on the website, for example: if a website has 30 products , so it one while loop will fetch date from data store and run 30 times for that.\n",
    "\n",
    "<br>\n",
    "There are only 2 types of loops\n",
    "1. WHile loop:\n",
    "\n",
    "2. For loop\n"
   ]
  },
  {
   "cell_type": "code",
   "execution_count": null,
   "metadata": {
    "id": "kEIkkYc4LiW0"
   },
   "outputs": [],
   "source": [
    "number= int(input(\"ENter the number \"))\n",
    "\n",
    "\n",
    "i= 1\n",
    "\n",
    "while i<11:\n",
    "  print(number,\"X\",i,\"=\",number*i)\n",
    "  i+=1\n"
   ]
  },
  {
   "cell_type": "code",
   "execution_count": null,
   "metadata": {
    "id": "RFHrXjOMQY22"
   },
   "outputs": [],
   "source": []
  }
 ],
 "metadata": {
  "colab": {
   "authorship_tag": "ABX9TyMWSrKgaD8wv6BMY8VTm05Y",
   "provenance": []
  },
  "kernelspec": {
   "display_name": "Python 3 (ipykernel)",
   "language": "python",
   "name": "python3"
  },
  "language_info": {
   "codemirror_mode": {
    "name": "ipython",
    "version": 3
   },
   "file_extension": ".py",
   "mimetype": "text/x-python",
   "name": "python",
   "nbconvert_exporter": "python",
   "pygments_lexer": "ipython3",
   "version": "3.10.9"
  }
 },
 "nbformat": 4,
 "nbformat_minor": 1
}
